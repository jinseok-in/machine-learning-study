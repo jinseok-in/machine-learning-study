{
 "cells": [
  {
   "cell_type": "code",
   "execution_count": 67,
   "id": "9d7c1471",
   "metadata": {},
   "outputs": [
    {
     "name": "stdout",
     "output_type": "stream",
     "text": [
      "<class 'pandas.core.frame.DataFrame'>\n",
      "RangeIndex: 891 entries, 0 to 890\n",
      "Data columns (total 11 columns):\n",
      " #   Column      Non-Null Count  Dtype   \n",
      "---  ------      --------------  -----   \n",
      " 0   survived    891 non-null    int64   \n",
      " 1   pclass      891 non-null    int64   \n",
      " 2   sex         891 non-null    int64   \n",
      " 3   age         714 non-null    float64 \n",
      " 4   sibsp       891 non-null    int64   \n",
      " 5   parch       891 non-null    int64   \n",
      " 6   fare        891 non-null    float64 \n",
      " 7   embarked    891 non-null    int32   \n",
      " 8   class       891 non-null    category\n",
      " 9   adult_male  891 non-null    bool    \n",
      " 10  alone       891 non-null    int64   \n",
      "dtypes: bool(1), category(1), float64(2), int32(1), int64(6)\n",
      "memory usage: 61.2 KB\n"
     ]
    }
   ],
   "source": [
    "import pandas as pd\n",
    "import numpy as np\n",
    "import  seaborn  as  sns \n",
    "\n",
    "df = sns.load_dataset('titanic')\n",
    "\n",
    "#df['sex'] = df['sex'].replace('male', 0).replace('female', 1)\n",
    "df['sex'] = df['sex'].map({'male':0, 'female':1})\n",
    "df['embarked'] = df['embarked'].fillna(df['embarked'].mode()[0]).map({'S':0,'C':1,'Q':2}).astype(int)\n",
    "df['class'] = df['class'].map({'First':0, 'Second':1, 'Third':2})\n",
    "df['alone'] = df['alone'].map({False:0, True:1})\n",
    "df = df.drop(df[['who', 'deck', 'embark_town', 'alive']], axis=1)\n",
    "\n",
    "#df[df['embarked'].isnull() == True]\n",
    "#df.info()\n",
    "df.info()"
   ]
  },
  {
   "cell_type": "code",
   "execution_count": null,
   "id": "23b580a0",
   "metadata": {},
   "outputs": [],
   "source": []
  }
 ],
 "metadata": {
  "kernelspec": {
   "display_name": "Python 3 (ipykernel)",
   "language": "python",
   "name": "python3"
  },
  "language_info": {
   "codemirror_mode": {
    "name": "ipython",
    "version": 3
   },
   "file_extension": ".py",
   "mimetype": "text/x-python",
   "name": "python",
   "nbconvert_exporter": "python",
   "pygments_lexer": "ipython3",
   "version": "3.9.12"
  }
 },
 "nbformat": 4,
 "nbformat_minor": 5
}
