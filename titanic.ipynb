{
 "cells": [
  {
   "cell_type": "code",
   "execution_count": 132,
   "id": "9d7c1471",
   "metadata": {},
   "outputs": [
    {
     "name": "stdout",
     "output_type": "stream",
     "text": [
      "0.8033707865168539\n",
      "0.7988826815642458\n",
      "1.0\n",
      "0.7653631284916201\n"
     ]
    }
   ],
   "source": [
    "from sklearn.model_selection import train_test_split\n",
    "\n",
    "import pandas as pd\n",
    "import numpy as np\n",
    "import  seaborn  as  sns \n",
    "import warnings\n",
    "warnings.filterwarnings('ignore')\n",
    "\n",
    "df_data = sns.load_dataset('titanic')\n",
    "df_non_survived = pd.read_csv('C:/[jinseok]/AICC/test.csv')\n",
    "\n",
    "#df['sex'] = df['sex'].replace('male', 0).replace('female', 1)\n",
    "def ft(df):\n",
    "    df_slice = df[['passengerld', 'pclass','sex', 'age', 'sibsp', 'parch', 'fare', 'embarked']]\n",
    "    df_slice['sex'] = df_slice['sex'].map({'male':0, 'female':1})\n",
    "    df_slice['embarked'] = df_slice['embarked'].fillna(df_slice['embarked'].mode()[0]).map({'S':0,'C':1,'Q':2}).astype(int)\n",
    "    df_slice['age'] = df_slice['age'].fillna(df_slice['age'].mean())\n",
    "    return df_slice\n",
    "\n",
    "df_data = df_data.reset_index()\n",
    "df_data['index'] = df_data['index']+1\n",
    "df_data = df_data.rename(columns={'index' : 'passengerld'})\n",
    "df_non_survived.columns = ['passengerld', 'pclass', 'name', 'sex', 'age', 'sibsp', 'parch', 'ticket', 'fare', 'cabin', 'embarked']\n",
    "df_target = df_data['survived']\n",
    "#df[df['embarked'].isnull() == True]\n",
    "#df.info()\n",
    "titanic_data = ft(df_data)\n",
    "titanic_non_survived = ft(df_non_survived)\n",
    "#print(df_non_survived.info())\n",
    "\n",
    "X_input, X_target, test_input, test_target = train_test_split(titanic_data, df_target, test_size=0.2, random_state=42)\n",
    "\n",
    "from sklearn.linear_model import LogisticRegression\n",
    "lr = LogisticRegression()\n",
    "\n",
    "lr.fit(X_input, X_target)\n",
    "print(lr.score(X_input, X_target))\n",
    "print(lr.score(test_input, test_target))\n",
    "\n",
    "from sklearn.tree import DecisionTreeClassifier\n",
    "from sklearn.metrics import accuracy_score\n",
    "\n",
    "dt = DecisionTreeClassifier(random_state=42)\n",
    "dt = dt.fit(X_input, X_target)\n",
    "\n",
    "print(dt.score(X_input, X_target))\n",
    "print(dt.score(test_input, test_target))\n",
    "\n"
   ]
  },
  {
   "cell_type": "code",
   "execution_count": null,
   "id": "23b580a0",
   "metadata": {},
   "outputs": [],
   "source": []
  },
  {
   "cell_type": "code",
   "execution_count": null,
   "id": "edfb010d",
   "metadata": {},
   "outputs": [],
   "source": []
  }
 ],
 "metadata": {
  "kernelspec": {
   "display_name": "Python 3 (ipykernel)",
   "language": "python",
   "name": "python3"
  },
  "language_info": {
   "codemirror_mode": {
    "name": "ipython",
    "version": 3
   },
   "file_extension": ".py",
   "mimetype": "text/x-python",
   "name": "python",
   "nbconvert_exporter": "python",
   "pygments_lexer": "ipython3",
   "version": "3.9.12"
  }
 },
 "nbformat": 4,
 "nbformat_minor": 5
}
